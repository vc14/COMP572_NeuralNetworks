{
  "nbformat": 4,
  "nbformat_minor": 0,
  "metadata": {
    "colab": {
      "provenance": [],
      "authorship_tag": "ABX9TyPAfGaZPnFAp2VEX7HjsXgk",
      "include_colab_link": true
    },
    "kernelspec": {
      "name": "python3",
      "display_name": "Python 3"
    },
    "language_info": {
      "name": "python"
    }
  },
  "cells": [
    {
      "cell_type": "markdown",
      "metadata": {
        "id": "view-in-github",
        "colab_type": "text"
      },
      "source": [
        "<a href=\"https://colab.research.google.com/github/vc14/COMP572_NeuralNetworks/blob/main/PracticePythonSkills.ipynb\" target=\"_parent\"><img src=\"https://colab.research.google.com/assets/colab-badge.svg\" alt=\"Open In Colab\"/></a>"
      ]
    },
    {
      "cell_type": "code",
      "execution_count": null,
      "metadata": {
        "id": "phB3GCKcG7rS"
      },
      "outputs": [],
      "source": [
        "# Task 1 Shopping Cart Price Checker\n",
        "# You are given a list of items in a shopping cart and their prices.\n",
        "\n",
        "Cart = ['apple', 'banana', 'milk', 'bread']\n",
        "Prices = {'apple': 1.5, 'banana': 0.75, 'milk': 2.0, 'bread': 2.5}\n",
        "\n",
        "# 1. Print each item and its price\n",
        "# 2. Calculate the total cost of the cart\n",
        "# 3. If total cost > $6, apply a 10% discount\n",
        "# 4. Print the final amount to be paid\n",
        "\n",
        "# Add a blank cell below and write your code."
      ]
    },
    {
      "cell_type": "code",
      "source": [
        "# Add Task 1 Code here"
      ],
      "metadata": {
        "id": "aGapdF4THMLX"
      },
      "execution_count": null,
      "outputs": []
    },
    {
      "cell_type": "code",
      "source": [
        "# Task 2 Temperature Analyzer\n",
        "# Define a function `analyze_temperatures` that accepts a list of temperatures in Celsius.\n",
        "# The function should:\n",
        "# Print how many days were \"hot\" (>30°C), \"cold\" (<10°C), and \"normal\" (in between)\n",
        "# Return the average temperature from the list\n",
        "\n",
        "temperatures = [5, 12, 28, 32, 8, 10, 35, 21], # use this list\n",
        "\n",
        "# Call the function and print the average\n",
        "\n",
        "# Add your code below"
      ],
      "metadata": {
        "id": "_oupap7tHaTk"
      },
      "execution_count": null,
      "outputs": []
    },
    {
      "cell_type": "code",
      "source": [
        "# Task 2 Solution"
      ],
      "metadata": {
        "id": "YOFdoaB5HmcP"
      },
      "execution_count": null,
      "outputs": []
    },
    {
      "cell_type": "code",
      "source": [
        "# Task 3 Matrix operations\n",
        "# Create Two 3×3 Matrices:\n",
        "\n",
        "A = []\n",
        "\n",
        "B = []\n",
        "\n",
        "# Perform and Print the Following:\n",
        "\n",
        "# Matrix addition\n",
        "# Matrix subtraction\n",
        "\n",
        "# Element-wise multiplication: A * B\n",
        "\n",
        "# Matrix multiplication (dot product): np.dot(A,B) or A @ B\n",
        "\n",
        "# Determinant of both matrices\n",
        "\n",
        "# Inverse of both matrices\n",
        "# If a matrix is not invertible, your code should print a helpful message like: \"Matrix A is not invertible.\""
      ],
      "metadata": {
        "id": "RiIvPKiQHpGk"
      },
      "execution_count": null,
      "outputs": []
    },
    {
      "cell_type": "code",
      "source": [
        "# Task 3 Solution"
      ],
      "metadata": {
        "id": "u6R69GIdI82P"
      },
      "execution_count": null,
      "outputs": []
    },
    {
      "cell_type": "code",
      "source": [],
      "metadata": {
        "id": "cmYOfiAZI-Q8"
      },
      "execution_count": null,
      "outputs": []
    }
  ]
}